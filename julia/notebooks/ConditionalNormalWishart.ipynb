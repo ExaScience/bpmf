{
 "metadata": {
  "language": "Julia",
  "name": "",
  "signature": "sha256:fe50ebe2c6248b257015171b56511d106b5ce2d3bda5e6fc57a3a0ae4738ca3f"
 },
 "nbformat": 3,
 "nbformat_minor": 0,
 "worksheets": [
  {
   "cells": [
    {
     "cell_type": "code",
     "collapsed": false,
     "input": [
      "using Distributions;\n",
      "\n",
      "num_feat = 3\n",
      "num_u = 10\n",
      "\n",
      "sample_u = zeros(num_u, num_feat)\n",
      "\n",
      "mu_u = zeros(num_feat,1)\n",
      "Lambda_u = eye(num_feat)\n",
      "\n",
      "WI_u = eye(num_feat)\n",
      "b0_u = 2\n",
      "df_u = num_feat\n",
      "mu0_u = zeros(num_feat,1)\n",
      "\n",
      "function ConditionalNormalWishart(U::Matrix{Float64}, mu::Vector{Float64}, kappa::Real, T::Matrix{Float64}, nu::Real)\n",
      "  N = size(U, 1)\n",
      "  m = mean(U,1)\n",
      "  S = cov(U, mean=m)\n",
      "    print(m)\n",
      "  m = m'\n",
      "\n",
      "  mu_c = (kappa*mu + N*m) / (kappa + N)\n",
      "  kappa_c = kappa + N\n",
      "  T_c = inv( inv(T) + N * S + (kappa * N)/(kappa + N) * (mu - m) * (mu - m)' )\n",
      "  nu_c = nu + N\n",
      "\n",
      "  NormalWishart(vec(mu_c), kappa_c, T_c, nu_c)\n",
      "end\n",
      "\n",
      "rand ( ConditionalNormalWishart(sample_u, vec(mu0_u), b0_u, WI_u, df_u) )\n"
     ],
     "language": "python",
     "metadata": {},
     "outputs": [
      {
       "output_type": "stream",
       "stream": "stdout",
       "text": [
        "[0"
       ]
      },
      {
       "output_type": "stream",
       "stream": "stdout",
       "text": [
        ".0 0.0 0.0]"
       ]
      },
      {
       "metadata": {},
       "output_type": "pyout",
       "prompt_number": 6,
       "text": [
        "([-0.249952,0.043987,0.0573465],\n",
        "3x3 Array{Float64,2}:\n",
        "  5.9052    -1.63807  -0.817604\n",
        " -1.63807   10.8553   -2.69262 \n",
        " -0.817604  -2.69262  12.8221  )"
       ]
      }
     ],
     "prompt_number": 6
    },
    {
     "cell_type": "code",
     "collapsed": false,
     "input": [
      "print(sample_u)"
     ],
     "language": "python",
     "metadata": {},
     "outputs": [
      {
       "output_type": "stream",
       "stream": "stdout",
       "text": [
        "[0"
       ]
      },
      {
       "output_type": "stream",
       "stream": "stdout",
       "text": [
        ".0 0.0 0.0\n",
        " 0.0 0.0 0.0\n",
        " 0.0 0.0 0.0\n",
        " 0.0 0.0 0.0\n",
        " 0.0 0.0 0.0\n",
        " 0.0 0.0 0.0\n",
        " 0.0 0.0 0.0\n",
        " 0.0 0.0 0.0\n",
        " 0.0 0.0 0.0\n",
        " 0.0 0.0 0.0]"
       ]
      }
     ],
     "prompt_number": 7
    },
    {
     "cell_type": "code",
     "collapsed": false,
     "input": [],
     "language": "python",
     "metadata": {},
     "outputs": []
    }
   ],
   "metadata": {}
  }
 ]
}