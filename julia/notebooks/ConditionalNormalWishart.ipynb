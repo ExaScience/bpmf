{
 "metadata": {
  "language": "Julia",
  "name": "",
  "signature": "sha256:75ad4433564775c64abdfdccd3d576fdc70020bdd97798b495e3bd2057c96b13"
 },
 "nbformat": 3,
 "nbformat_minor": 0,
 "worksheets": [
  {
   "cells": [
    {
     "cell_type": "code",
     "collapsed": false,
     "input": [
      "using Distributions;\n",
      "\n",
      "num_feat = 3\n",
      "num_u = 10\n",
      "\n",
      "sample_u = zeros(num_u, num_feat)\n",
      "\n",
      "mu_u = zeros(num_feat,1)\n",
      "Lambda_u = eye(num_feat)\n",
      "\n",
      "WI_u = eye(num_feat)\n",
      "b0_u = 2\n",
      "df_u = num_feat\n",
      "mu0_u = zeros(num_feat,1)\n",
      "\n",
      "function ConditionalNormalWishart(U::Matrix{Float64}, mu::Vector{Float64}, kappa::Real, T::Matrix{Float64}, nu::Real)\n",
      "  N = size(U, 1)\n",
      "  U\u0304 = mean(U,1)\n",
      "  S = cov(U, mean=U\u0304)\n",
      "  U\u0304 = U\u0304'\n",
      "\n",
      "  mu_c = (kappa*mu + N*U\u0304) / (kappa + N)\n",
      "  kappa_c = kappa + N\n",
      "  T_c = inv( inv(T) + N * S + (kappa * N)/(kappa + N) * (mu - U\u0304) * (mu - U\u0304)' )\n",
      "  nu_c = nu + N\n",
      "\n",
      "  NormalWishart(vec(mu_c), kappa_c, T_c, nu_c)\n",
      "end\n",
      "\n",
      "rand ( ConditionalNormalWishart(sample_u, vec(mu0_u), b0_u, WI_u, df_u) )\n"
     ],
     "language": "python",
     "metadata": {},
     "outputs": [
      {
       "metadata": {},
       "output_type": "pyout",
       "prompt_number": 11,
       "text": [
        "([0.0234998,0.079803,-0.214932],\n",
        "3x3 Array{Float64,2}:\n",
        "  8.4122    -0.386244  -2.35461\n",
        " -0.386244  38.4381     6.6668 \n",
        " -2.35461    6.6668     6.61403)"
       ]
      }
     ],
     "prompt_number": 11
    },
    {
     "cell_type": "code",
     "collapsed": false,
     "input": [
      "print(sample_u)"
     ],
     "language": "python",
     "metadata": {},
     "outputs": [
      {
       "output_type": "stream",
       "stream": "stdout",
       "text": [
        "[0"
       ]
      },
      {
       "output_type": "stream",
       "stream": "stdout",
       "text": [
        ".0 0.0 0.0\n",
        " 0.0 0.0 0.0\n",
        " 0.0 0.0 0.0\n",
        " 0.0 0.0 0.0\n",
        " 0.0 0.0 0.0\n",
        " 0.0 0.0 0.0\n",
        " 0.0 0.0 0.0\n",
        " 0.0 0.0 0.0\n",
        " 0.0 0.0 0.0\n",
        " 0.0 0.0 0.0]"
       ]
      }
     ],
     "prompt_number": 14
    },
    {
     "cell_type": "code",
     "collapsed": false,
     "input": [],
     "language": "python",
     "metadata": {},
     "outputs": []
    }
   ],
   "metadata": {}
  }
 ]
}