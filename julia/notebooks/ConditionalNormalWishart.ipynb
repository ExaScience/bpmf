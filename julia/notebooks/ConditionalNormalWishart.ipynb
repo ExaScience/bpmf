{
 "metadata": {
  "language": "Julia",
  "name": "",
  "signature": "sha256:799b93ac2acad73bfb2aeed331995f77b07f2064adbd9f8558945211eb08f364"
 },
 "nbformat": 3,
 "nbformat_minor": 0,
 "worksheets": [
  {
   "cells": [
    {
     "cell_type": "code",
     "collapsed": false,
     "input": [
      "using Distributions;\n",
      "\n",
      "num_feat = 3\n",
      "num_u = 3\n",
      "\n",
      "sample_u = ones(num_u, num_feat)\n",
      "\n",
      "mu_u = zeros(num_feat,1)\n",
      "Lambda_u = eye(num_feat)\n",
      "\n",
      "WI_u = eye(num_feat)\n",
      "b0_u = 2\n",
      "df_u = num_feat\n",
      "mu0_u = zeros(num_feat,1)\n",
      "\n",
      "srand(1)\n",
      "\n",
      "function ConditionalNormalWishart(U::Matrix{Float64}, mu::Vector{Float64}, kappa::Real, T::Matrix{Float64}, nu::Real)\n",
      "  @show(U, mu, kappa, T, nu)\n",
      "\n",
      "  N = size(U, 1)\n",
      "  m = mean(U,1)\n",
      "  S = cov(U, mean=m)\n",
      "  m = m'\n",
      "\n",
      "  mu_c = (kappa*mu + N*m) / (kappa + N)\n",
      "  kappa_c = kappa + N\n",
      "  T_c = inv( inv(T) + N * S + (kappa * N)/(kappa + N) * (mu - m) * (mu - m)' )\n",
      "  nu_c = nu + N\n",
      "  \n",
      "  @show(mu_c, kappa_c, T_c, nu_c)\n",
      "\n",
      "  NormalWishart(vec(mu_c), kappa_c, T_c, nu_c)\n",
      "end\n",
      "\n",
      "rand ( ConditionalNormalWishart(sample_u, vec(mu0_u), b0_u, WI_u, df_u) )\n"
     ],
     "language": "python",
     "metadata": {},
     "outputs": [
      {
       "output_type": "stream",
       "stream": "stdout",
       "text": [
        "U => [1.0 1.0 1.0\n",
        " 1.0 1.0 1.0\n",
        " 1.0 1.0 1.0]"
       ]
      },
      {
       "output_type": "stream",
       "stream": "stdout",
       "text": [
        "\n",
        "mu => [0.0,0.0,0.0]\n",
        "kappa => 2\n",
        "T => [1.0 0.0 0.0\n",
        " 0.0 1.0 0.0\n",
        " 0.0 0.0 1.0]\n",
        "nu => 3\n",
        "mu_c => [0.6\n",
        " 0.6\n",
        " 0.6]\n",
        "kappa_c => 5\n",
        "T_c => [0.7391304347826086 -0.2608695652173912 -0.26086956521739124\n",
        " -0.2608695652173912 0.7391304347826084 -0.26086956521739124\n",
        " -0.26086956521739124 -0.26086956521739124 0.7391304347826085]\n",
        "nu_c => 6\n"
       ]
      },
      {
       "metadata": {},
       "output_type": "pyout",
       "prompt_number": 13,
       "text": [
        "([0.733666,0.599129,0.499867],\n",
        "3x3 Array{Float64,2}:\n",
        "  1.99473    0.390344  -0.864085\n",
        "  0.390344   8.56916   -5.82779 \n",
        " -0.864085  -5.82779    7.2238  )"
       ]
      }
     ],
     "prompt_number": 13
    },
    {
     "cell_type": "code",
     "collapsed": false,
     "input": [
      "srand (1)\n",
      "n = 3\n",
      "T = eye(n)\n",
      "mu = zeros(n)\n",
      "T = eye(num_feat)\n",
      "\n",
      "rand (NormalWishart(mu, 10, T, 3))\n"
     ],
     "language": "python",
     "metadata": {},
     "outputs": [
      {
       "metadata": {},
       "output_type": "pyout",
       "prompt_number": 26,
       "text": [
        "([0.373698,-0.00672515,0.344421],\n",
        "3x3 Array{Float64,2}:\n",
        "  2.63877   3.7282   -3.68272\n",
        "  3.7282    6.88133  -4.5299 \n",
        " -3.68272  -4.5299    6.08984)"
       ]
      }
     ],
     "prompt_number": 26
    },
    {
     "cell_type": "code",
     "collapsed": false,
     "input": [],
     "language": "python",
     "metadata": {},
     "outputs": [],
     "prompt_number": 19
    },
    {
     "cell_type": "code",
     "collapsed": false,
     "input": [],
     "language": "python",
     "metadata": {},
     "outputs": []
    }
   ],
   "metadata": {}
  }
 ]
}