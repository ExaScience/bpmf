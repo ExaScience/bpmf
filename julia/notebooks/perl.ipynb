{
 "metadata": {
  "name": "",
  "signature": "sha256:662edac9ce778fd559bf3249a752832783e65d7a78f30ff21c1cd99ece91eaf6"
 },
 "nbformat": 3,
 "nbformat_minor": 0,
 "worksheets": [
  {
   "cells": [
    {
     "cell_type": "code",
     "collapsed": false,
     "input": [
      "print \"hello\\n\";"
     ],
     "language": "python",
     "metadata": {},
     "outputs": [
      {
       "output_type": "stream",
       "stream": "stdout",
       "text": [
        "hello\n",
        "\n"
       ]
      }
     ],
     "prompt_number": 1
    },
    {
     "cell_type": "code",
     "collapsed": false,
     "input": [
      "%%perl\n",
      "use Data::Dumper;\n",
      "use HTML::Entities ;\n",
      "my %h = ( \"a\" => 1 );\n",
      "print encode_entities($h[\"b\"]);"
     ],
     "language": "python",
     "metadata": {},
     "outputs": [],
     "prompt_number": 15
    },
    {
     "cell_type": "code",
     "collapsed": false,
     "input": [],
     "language": "python",
     "metadata": {},
     "outputs": []
    }
   ],
   "metadata": {}
  }
 ]
}