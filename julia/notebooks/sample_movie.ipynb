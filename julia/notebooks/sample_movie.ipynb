{
 "metadata": {
  "name": "",
  "signature": "sha256:ea50898d104cdb1555fa7abceabc1ffc61aeb22e122ad799f027f92919e7196b"
 },
 "nbformat": 3,
 "nbformat_minor": 0,
 "worksheets": []
}