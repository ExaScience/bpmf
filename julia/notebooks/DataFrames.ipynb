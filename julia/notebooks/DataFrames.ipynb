{
 "metadata": {
  "language": "Julia",
  "name": "",
  "signature": "sha256:3a1766f85304527a8aa43d0f2d54b0c90b339a51594c3266d2300567d08d1dca"
 },
 "nbformat": 3,
 "nbformat_minor": 0,
 "worksheets": [
  {
   "cells": [
    {
     "cell_type": "code",
     "collapsed": false,
     "input": [
      "using DataFrames\n",
      "X = readtable(\"../data/chembl_19_mf1/chembl-IC50-10targets.csv\", header=true)\n",
      "rename!(X, [:row, :col], [:compound, :target])"
     ],
     "language": "python",
     "metadata": {},
     "outputs": [
      {
       "html": [
        "<table class=\"data-frame\"><tr><th></th><th>compound</th><th>target</th><th>value</th></tr><tr><th>1</th><td>1875</td><td>1</td><td>3516.24</td></tr><tr><th>2</th><td>1892</td><td>1</td><td>3484.38</td></tr><tr><th>3</th><td>1930</td><td>1</td><td>136.0</td></tr><tr><th>4</th><td>1981</td><td>1</td><td>847.3</td></tr><tr><th>5</th><td>2024</td><td>1</td><td>7345.73</td></tr><tr><th>6</th><td>2025</td><td>1</td><td>1081.87</td></tr><tr><th>7</th><td>2081</td><td>1</td><td>1177.99</td></tr><tr><th>8</th><td>2154</td><td>1</td><td>699.18</td></tr><tr><th>9</th><td>2219</td><td>1</td><td>3254.9</td></tr><tr><th>10</th><td>2237</td><td>1</td><td>1690.0</td></tr></table>"
       ],
       "metadata": {},
       "output_type": "pyout",
       "prompt_number": 7,
       "text": [
        "10x3 DataFrame\n",
        "| Row | compound | target | value   |\n",
        "|-----|----------|--------|---------|\n",
        "| 1   | 1875     | 1      | 3516.24 |\n",
        "| 2   | 1892     | 1      | 3484.38 |\n",
        "| 3   | 1930     | 1      | 136.0   |\n",
        "| 4   | 1981     | 1      | 847.3   |\n",
        "| 5   | 2024     | 1      | 7345.73 |\n",
        "| 6   | 2025     | 1      | 1081.87 |\n",
        "| 7   | 2081     | 1      | 1177.99 |\n",
        "| 8   | 2154     | 1      | 699.18  |\n",
        "| 9   | 2219     | 1      | 3254.9  |\n",
        "| 10  | 2237     | 1      | 1690.0  |"
       ]
      }
     ],
     "prompt_number": 7
    },
    {
     "cell_type": "code",
     "collapsed": false,
     "input": [
      "X[:, :value] = log10(X[:, :value])"
     ],
     "language": "python",
     "metadata": {},
     "outputs": [
      {
       "metadata": {},
       "output_type": "pyout",
       "prompt_number": 8,
       "text": [
        "10-element DataArray{Float64,1}:\n",
        " 3.54608\n",
        " 3.54213\n",
        " 2.13354\n",
        " 2.92804\n",
        " 3.86603\n",
        " 3.03418\n",
        " 3.07114\n",
        " 2.84459\n",
        " 3.51254\n",
        " 3.22789"
       ]
      }
     ],
     "prompt_number": 8
    },
    {
     "cell_type": "code",
     "collapsed": false,
     "input": [
      "idx = sample(1:size(X,1), int(floor(20/100 * size(X,1))); replace=false)"
     ],
     "language": "python",
     "metadata": {},
     "outputs": [
      {
       "metadata": {},
       "output_type": "pyout",
       "prompt_number": 9,
       "text": [
        "2-element Array{Int64,1}:\n",
        " 8\n",
        " 7"
       ]
      }
     ],
     "prompt_number": 9
    },
    {
     "cell_type": "code",
     "collapsed": false,
     "input": [
      "int(floor(20/100 * size(X,1)))"
     ],
     "language": "python",
     "metadata": {},
     "outputs": [
      {
       "metadata": {},
       "output_type": "pyout",
       "prompt_number": 11,
       "text": [
        "2"
       ]
      }
     ],
     "prompt_number": 11
    },
    {
     "cell_type": "code",
     "collapsed": false,
     "input": [
      "    probe_vec = array(X[idx,:])"
     ],
     "language": "python",
     "metadata": {},
     "outputs": [
      {
       "metadata": {},
       "output_type": "pyout",
       "prompt_number": 12,
       "text": [
        "2x3 Array{Real,2}:\n",
        " 2154  1  2.84459\n",
        " 2081  1  3.07114"
       ]
      }
     ],
     "prompt_number": 12
    },
    {
     "cell_type": "code",
     "collapsed": false,
     "input": [
      "    ratings_test = probe_vec[:,3] .< log10(200)"
     ],
     "language": "python",
     "metadata": {},
     "outputs": [
      {
       "metadata": {},
       "output_type": "pyout",
       "prompt_number": 13,
       "text": [
        "2-element BitArray{1}:\n",
        " false\n",
        " false"
       ]
      }
     ],
     "prompt_number": 13
    },
    {
     "cell_type": "code",
     "collapsed": false,
     "input": [],
     "language": "python",
     "metadata": {},
     "outputs": []
    }
   ],
   "metadata": {}
  }
 ]
}